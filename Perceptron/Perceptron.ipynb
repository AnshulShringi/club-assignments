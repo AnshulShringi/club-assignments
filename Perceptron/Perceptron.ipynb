{
 "cells": [
  {
   "cell_type": "markdown",
   "metadata": {
    "colab_type": "text",
    "id": "T4Z7Vur1SO7C"
   },
   "source": [
    "# Importing necessary libraries and functions"
   ]
  },
  {
   "cell_type": "code",
   "execution_count": 35,
   "metadata": {
    "_uuid": "1f482e8de2138881025796784078523a163d4be2",
    "colab": {},
    "colab_type": "code",
    "id": "p__4_dPKtxwG"
   },
   "outputs": [],
   "source": [
    "import numpy as np\n",
    "import pandas as pd\n",
    "import matplotlib.pyplot as plt\n",
    "from sklearn.preprocessing import LabelEncoder,MinMaxScaler, StandardScaler\n",
    "from sklearn.model_selection import train_test_split, ParameterGrid\n",
    "from sklearn.metrics import accuracy_score, confusion_matrix, mean_squared_error, log_loss\n",
    "import operator\n",
    "import json\n",
    "from IPython import display\n",
    "import os\n",
    "import warnings\n",
    "\n",
    "np.random.seed(0)\n",
    "warnings.filterwarnings(\"ignore\")\n",
    "THRESHOLD = 4"
   ]
  },
  {
   "cell_type": "markdown",
   "metadata": {
    "colab_type": "text",
    "id": "k4GSEh4_SbfR"
   },
   "source": [
    "# Data Processing"
   ]
  },
  {
   "cell_type": "markdown",
   "metadata": {
    "_uuid": "db6c8a9ef77744eb72031cf7ce53b54f33d7b5ea",
    "colab_type": "text",
    "id": "ZDqusX0vtxwL"
   },
   "source": [
    "Task: To predict whether the user likes the mobile phone or not. <br>\n",
    "Assumption: If the average rating of mobile >= threshold, then the user likes it, otherwise not."
   ]
  },
  {
   "cell_type": "markdown",
   "metadata": {
    "_uuid": "66f87cc49446974c9b2cfd0f7f3f2b6cc211cf8c",
    "colab_type": "text",
    "id": "YRQFOVQ0txwL"
   },
   "source": [
    "<b>Missing values:</b><br>\n",
    "'Also Known As'(459),'Applications'(421),'Audio Features'(437),'Bezel-less display'(266),'Browser'(449),'Build Material'(338),'Co-Processor'(451),'Display Colour'(457),'Mobile High-Definition Link(MHL)'(472),'Music'(447)\n",
    "'Email','Fingerprint Sensor Position'(174),'Games'(446),'HDMI'(454),'Heart Rate Monitor'(467),'IRIS Scanner'(467),\n",
    "'Optical Image Stabilisation'(219),'Other Facilities'(444),'Phone Book'(444),'Physical Aperture'(87),'Quick Charging'(122),'Ring Tone'(444),'Ruggedness'(430),SAR Value(315),'SIM 3'(472),'SMS'(470)', 'Screen Protection'(229),'Screen to Body Ratio (claimed by the brand)'(428),'Sensor'(242),'Software Based Aperture'(473),\n",
    "'Special Features'(459),'Standby time'(334),'Stylus'(473),'TalkTime'(259), 'USB Type-C'(374),'Video Player'(456),\n",
    "'Video Recording Features'(458),'Waterproof'(398),'Wireless Charging','USB OTG Support'(159), 'Video ,'Recording'(113),'Java'(471),'Browser'(448)\n",
    "\n",
    "<b>Very low variance:</b><br>\n",
    "'Architecture'(most entries are 64-bit),'Audio Jack','GPS','Loudspeaker','Network','Network Support','Other Sensors'(28),'SIM Size', 'VoLTE'\n",
    "\n",
    "\n",
    "<b>Multivalued:</b><br>\n",
    "'Colours','Custom UI','Model'(1),'Other Sensors','Launch Date'\n",
    "\n",
    "<b>Not important:</b><br>\n",
    "'Bluetooth', 'Settings'(75),'Wi-Fi','Wi-Fi Features'\n",
    "\n",
    "<b>Doubtful:</b><br>\n",
    "'Aspect Ratio','Autofocus','Brand','Camera Features','Fingerprint Sensor'(very few entries are missing),\n",
    "'Fingerprint Sensor Position', 'Graphics'(multivalued),'Image resolution'(multivalued),'SIM Size','Sim Slot(s)', 'User Available Storage', 'SIM 1', 'SIM 2','Shooting Modes', 'Touch Screen'(24), 'USB Connectivity'\n",
    "    \n",
    "<b>To check:</b><br>\n",
    "'Display Type','Expandable Memory','FM Radio'\n",
    "\n",
    "<b>High Correlation with other features</b><br>\n",
    "'SIM Slot(s)' high correlation with SIM1\n",
    "'Weight' has high high correlation with capacity , screen-to-body ratio\n",
    "'Height' - screen size is also there\n",
    "    \n",
    "<b>Given a mobile, we can't directly get these features</b><br>\n",
    "'Rating Count', 'Review Count'\n",
    "\n",
    "<b>Keeping:</b><br>\n",
    "'Capacity','Flash'(17),'Height'(22),'Internal Memory'(20, require cleaning),'Operating System'(25, require cleaning), 'Pixel Density'(1, clean it),'Processor'(22, clean it), 'RAM'(17, clean), 'Rating','Resolution'(cleaning), 'Screen Resolution','Screen Size', 'Thickness'(22), 'Type','User Replaceable','Weight'(cleaning),'Sim Size'(), 'Other Sensors'(28), 'Screen to Body Ratio (calculated)','Width',\n"
   ]
  },
  {
   "cell_type": "code",
   "execution_count": 36,
   "metadata": {
    "_uuid": "555e4ec967db4b98283964dbaed809431145252d",
    "colab": {
     "base_uri": "https://localhost:8080/",
     "height": 68
    },
    "colab_type": "code",
    "id": "QXKVVNvbtxwM",
    "outputId": "a0a7d52e-2577-4700-be26-52f04247039a"
   },
   "outputs": [
    {
     "name": "stdout",
     "output_type": "stream",
     "text": [
      "Number of data points in train: 355\n",
      "Number of features in train: 99\n"
     ]
    }
   ],
   "source": [
    "# read data from file\n",
    "train = pd.read_csv(\"train.csv\")\n",
    "\n",
    "# check the number of features and data points in train\n",
    "print(\"Number of data points in train: %d\" % train.shape[0])\n",
    "print(\"Number of features in train: %d\" % train.shape[1])"
   ]
  },
  {
   "cell_type": "code",
   "execution_count": 37,
   "metadata": {},
   "outputs": [
    {
     "name": "stdout",
     "output_type": "stream",
     "text": [
      "<class 'pandas.core.frame.DataFrame'>\n",
      "RangeIndex: 355 entries, 0 to 354\n",
      "Data columns (total 99 columns):\n",
      "PhoneId                                        355 non-null int64\n",
      "Also Known As                                  17 non-null object\n",
      "Applications                                   43 non-null object\n",
      "Architecture                                   273 non-null object\n",
      "Aspect Ratio                                   204 non-null object\n",
      "Audio Features                                 30 non-null object\n",
      "Audio Jack                                     343 non-null object\n",
      "Autofocus                                      333 non-null object\n",
      "Bezel-less display                             154 non-null object\n",
      "Bluetooth                                      351 non-null object\n",
      "Brand                                          354 non-null object\n",
      "Browser                                        23 non-null object\n",
      "Build Material                                 102 non-null object\n",
      "Camera Features                                348 non-null object\n",
      "Capacity                                       354 non-null object\n",
      "Chipset                                        329 non-null object\n",
      "Co-Processor                                   21 non-null object\n",
      "Colours                                        354 non-null object\n",
      "Custom UI                                      170 non-null object\n",
      "Display Colour                                 15 non-null object\n",
      "Display Type                                   354 non-null object\n",
      "Email                                          8 non-null object\n",
      "Expandable Memory                              353 non-null object\n",
      "FM Radio                                       281 non-null object\n",
      "Fingerprint Sensor                             335 non-null object\n",
      "Fingerprint Sensor Position                    219 non-null object\n",
      "Flash                                          342 non-null object\n",
      "GPS                                            333 non-null object\n",
      "Games                                          24 non-null object\n",
      "Graphics                                       325 non-null object\n",
      "HDMI                                           17 non-null object\n",
      "Heart Rate Monitor                             5 non-null object\n",
      "Height                                         340 non-null object\n",
      "IRIS Scanner                                   4 non-null object\n",
      "Image Resolution                               348 non-null object\n",
      "Internal Memory                                337 non-null object\n",
      "Java                                           2 non-null object\n",
      "Launch Date                                    331 non-null object\n",
      "Loudspeaker                                    354 non-null object\n",
      "Mobile High-Definition Link(MHL)               1 non-null object\n",
      "Model                                          354 non-null object\n",
      "Music                                          23 non-null object\n",
      "NFC                                            258 non-null object\n",
      "Network                                        354 non-null object\n",
      "Network Support                                354 non-null object\n",
      "Operating System                               334 non-null object\n",
      "Optical Image Stabilisation                    190 non-null object\n",
      "Other Facilities                               26 non-null object\n",
      "Other Sensors                                  331 non-null object\n",
      "Phone Book                                     26 non-null object\n",
      "Physical Aperture                              286 non-null object\n",
      "Pixel Density                                  354 non-null object\n",
      "Processor                                      336 non-null object\n",
      "Quick Charging                                 261 non-null object\n",
      "RAM                                            340 non-null object\n",
      "Rating Count                                   355 non-null int64\n",
      "Resolution                                     348 non-null object\n",
      "Review Count                                   355 non-null int64\n",
      "Ring Tone                                      26 non-null object\n",
      "Ruggedness                                     37 non-null object\n",
      "SAR Value                                      122 non-null object\n",
      "SIM 1                                          354 non-null object\n",
      "SIM 2                                          323 non-null object\n",
      "SIM 3                                          2 non-null object\n",
      "SIM Size                                       335 non-null object\n",
      "SIM Slot(s)                                    354 non-null object\n",
      "SMS                                            3 non-null object\n",
      "Screen Protection                              186 non-null object\n",
      "Screen Resolution                              354 non-null object\n",
      "Screen Size                                    354 non-null object\n",
      "Screen to Body Ratio (calculated)              340 non-null object\n",
      "Screen to Body Ratio (claimed by the brand)    34 non-null object\n",
      "Sensor                                         178 non-null object\n",
      "Settings                                       299 non-null object\n",
      "Shooting Modes                                 312 non-null object\n",
      "Software Based Aperture                        1 non-null object\n",
      "Special Features                               12 non-null object\n",
      "Standby time                                   109 non-null object\n",
      "Stylus                                         1 non-null object\n",
      "TalkTime                                       164 non-null object\n",
      "Thickness                                      340 non-null object\n",
      "Touch Screen                                   334 non-null object\n",
      "Type                                           353 non-null object\n",
      "USB Connectivity                               337 non-null object\n",
      "USB OTG Support                                235 non-null object\n",
      "USB Type-C                                     77 non-null object\n",
      "User Available Storage                         149 non-null object\n",
      "User Replaceable                               337 non-null object\n",
      "Video Player                                   14 non-null object\n",
      "Video Recording                                268 non-null object\n",
      "Video Recording Features                       14 non-null object\n",
      "VoLTE                                          273 non-null object\n",
      "Waterproof                                     60 non-null object\n",
      "Weight                                         325 non-null object\n",
      "Wi-Fi                                          334 non-null object\n",
      "Wi-Fi Features                                 329 non-null object\n",
      "Width                                          340 non-null object\n",
      "Wireless Charging                              25 non-null object\n",
      "Rating                                         355 non-null float64\n",
      "dtypes: float64(1), int64(3), object(95)\n",
      "memory usage: 274.7+ KB\n"
     ]
    }
   ],
   "source": [
    "train.info()"
   ]
  },
  {
   "cell_type": "code",
   "execution_count": 38,
   "metadata": {
    "_uuid": "8428672c60234705dbebb62ba08df835b5b31540",
    "colab": {},
    "colab_type": "code",
    "id": "Csj7g3cEtxwP"
   },
   "outputs": [],
   "source": [
    "def data_clean(data):\n",
    "    \n",
    "    # Let's first remove all missing value features\n",
    "    columns_to_remove = ['Also Known As','Applications','Audio Features','Bezel-less display'\n",
    "                         'Browser','Build Material','Co-Processor','Browser'\n",
    "                         'Display Colour','Mobile High-Definition Link(MHL)',\n",
    "                         'Music', 'Email','Fingerprint Sensor Position',\n",
    "                         'Games','HDMI','Heart Rate Monitor','IRIS Scanner', \n",
    "                         'Optical Image Stabilisation','Other Facilities',\n",
    "                         'Phone Book','Physical Aperture','Quick Charging',\n",
    "                         'Ring Tone','Ruggedness','SAR Value','SIM 3','SMS',\n",
    "                         'Screen Protection','Screen to Body Ratio (claimed by the brand)',\n",
    "                         'Sensor','Software Based Aperture', 'Special Features',\n",
    "                         'Standby time','Stylus','TalkTime', 'USB Type-C',\n",
    "                         'Video Player', 'Video Recording Features','Waterproof',\n",
    "                         'Wireless Charging','USB OTG Support', 'Video Recording','Java']\n",
    "\n",
    "    columns_to_retain = list(set(data.columns)-set(columns_to_remove))\n",
    "    data = data[columns_to_retain]\n",
    "\n",
    "    #Features having very low variance \n",
    "    columns_to_remove = ['Architecture','Audio Jack','GPS','Loudspeaker','Network','Network Support','VoLTE']\n",
    "    columns_to_retain = list(set(data.columns)-set(columns_to_remove))\n",
    "    data = data[columns_to_retain]\n",
    "\n",
    "    # Multivalued:\n",
    "    columns_to_remove = ['Architecture','Launch Date','Audio Jack','GPS','Loudspeaker','Network','Network Support','VoLTE', 'Custom UI']\n",
    "    columns_to_retain = list(set(data.columns)-set(columns_to_remove))\n",
    "    data = data[columns_to_retain]\n",
    "\n",
    "    # Not much important\n",
    "    columns_to_remove = ['Bluetooth', 'Settings','Wi-Fi','Wi-Fi Features']\n",
    "    columns_to_retain = list(set(data.columns)-set(columns_to_remove))\n",
    "    data = data[columns_to_retain]\n",
    "    \n",
    "    return data"
   ]
  },
  {
   "cell_type": "markdown",
   "metadata": {
    "_uuid": "c411b5ac6fd3d897ce65550e78f7a1c0c0cf0a26",
    "colab_type": "text",
    "id": "RHmbJFDbtxwS"
   },
   "source": [
    "# Removing features"
   ]
  },
  {
   "cell_type": "code",
   "execution_count": 39,
   "metadata": {
    "_uuid": "02370e51be1f5d557bd55937af4789dec2e41856",
    "colab": {},
    "colab_type": "code",
    "id": "_teWSOQZtxwT"
   },
   "outputs": [],
   "source": [
    "train = data_clean(train)"
   ]
  },
  {
   "cell_type": "markdown",
   "metadata": {
    "_uuid": "fcebb0848d4d12af687e5692dd12b1bc563082c2",
    "colab_type": "text",
    "id": "NFTQut_OtxwW"
   },
   "source": [
    "removing all those data points in which more than 15 features are missing "
   ]
  },
  {
   "cell_type": "code",
   "execution_count": 40,
   "metadata": {
    "_uuid": "8fda07457e4b178918aa87eb1d5f600e634a1104",
    "colab": {},
    "colab_type": "code",
    "id": "2cxuttDktxwW"
   },
   "outputs": [],
   "source": [
    "train = train[(train.isnull().sum(axis=1) <= 15)]\n",
    "# It isn't necessary to remove the data points from test set because the test set can have null values. In real world, we often fall into the situation where we don't have the complete data while predicting or testing"
   ]
  },
  {
   "cell_type": "code",
   "execution_count": 41,
   "metadata": {
    "_uuid": "4583401357a45cd6ca922aae26dc7cdf9137e332",
    "colab": {
     "base_uri": "https://localhost:8080/",
     "height": 51
    },
    "colab_type": "code",
    "id": "80n51HcZtxwa",
    "outputId": "ea75bbff-2905-4db0-c716-1a29bab7a3b8"
   },
   "outputs": [
    {
     "name": "stdout",
     "output_type": "stream",
     "text": [
      "Number of data points in train: 341\n",
      "Number of features in train: 47\n"
     ]
    }
   ],
   "source": [
    "# check the number of features and data points in train\n",
    "print(\"Number of data points in train: %d\" % train.shape[0])\n",
    "print(\"Number of features in train: %d\" % train.shape[1])"
   ]
  },
  {
   "cell_type": "markdown",
   "metadata": {
    "_uuid": "29d70dc0497aedc480d462bf42b76be16dd48e96",
    "colab_type": "text",
    "id": "51HvXZL3txwe"
   },
   "source": [
    "# Filling Missing values"
   ]
  },
  {
   "cell_type": "code",
   "execution_count": 42,
   "metadata": {
    "_uuid": "71d0d77051ec788bb6c5bd496572d4dcd295de39",
    "colab": {},
    "colab_type": "code",
    "id": "RcoqDeuEtxwe"
   },
   "outputs": [],
   "source": [
    "def for_integer(test):\n",
    "    try:\n",
    "        test = test.strip()\n",
    "        return int(test.split(' ')[0])\n",
    "    except IOError:\n",
    "           pass\n",
    "    except ValueError:\n",
    "        pass\n",
    "    except:\n",
    "        pass\n",
    "\n",
    "def for_string(test):\n",
    "    try:\n",
    "        test = test.strip()\n",
    "        return (test.split(' ')[0])\n",
    "    except IOError:\n",
    "        pass\n",
    "    except ValueError:\n",
    "        pass\n",
    "    except:\n",
    "        pass\n",
    "\n",
    "def for_float(test):\n",
    "    try:\n",
    "        test = test.strip()\n",
    "        return float(test.split(' ')[0])\n",
    "    except IOError:\n",
    "        pass\n",
    "    except ValueError:\n",
    "        pass\n",
    "    except:\n",
    "        pass\n",
    "def find_freq(test):\n",
    "    try:\n",
    "        test = test.strip()\n",
    "        test = test.split(' ')\n",
    "        if test[2][0] == '(':\n",
    "            return float(test[2][1:])\n",
    "        return float(test[2])\n",
    "    except IOError:\n",
    "        pass\n",
    "    except ValueError:\n",
    "        pass\n",
    "    except:\n",
    "        pass\n",
    "\n",
    "    \n",
    "def for_Internal_Memory(test):\n",
    "    try:\n",
    "        test = test.strip()\n",
    "        test = test.split(' ')\n",
    "        if test[1] == 'GB':\n",
    "            return int(test[0])\n",
    "        if test[1] == 'MB':\n",
    "#             print(\"here\")\n",
    "            return (int(test[0]) * 0.001)\n",
    "    except IOError:\n",
    "           pass\n",
    "    except ValueError:\n",
    "        pass\n",
    "    except:\n",
    "        pass\n",
    "    \n",
    "def find_freq(test):\n",
    "    try:\n",
    "        test = test.strip()\n",
    "        test = test.split(' ')\n",
    "        if test[2][0] == '(':\n",
    "            return float(test[2][1:])\n",
    "        return float(test[2])\n",
    "    except IOError:\n",
    "        pass\n",
    "    except ValueError:\n",
    "        pass\n",
    "    except:\n",
    "        pass\n"
   ]
  },
  {
   "cell_type": "code",
   "execution_count": 43,
   "metadata": {},
   "outputs": [
    {
     "data": {
      "text/plain": [
       "43"
      ]
     },
     "execution_count": 43,
     "metadata": {},
     "output_type": "execute_result"
    }
   ],
   "source": [
    "len(train.columns[train.dtypes=='object'])"
   ]
  },
  {
   "cell_type": "code",
   "execution_count": 44,
   "metadata": {
    "_uuid": "4bc8efc442f6b6e45f55995008127b3c686de8e5",
    "colab": {},
    "colab_type": "code",
    "id": "a7pEe2Mltxwi"
   },
   "outputs": [],
   "source": [
    "def data_clean_2(x):\n",
    "    data = x.copy()\n",
    "    \n",
    "    data['Capacity'] = data['Capacity'].apply(for_integer)\n",
    "\n",
    "    data['Height'] = data['Height'].apply(for_float)\n",
    "    data['Height'] = data['Height'].fillna(data['Height'].mean())\n",
    "\n",
    "    data['Internal Memory'] = data['Internal Memory'].apply(for_Internal_Memory)\n",
    "\n",
    "    data['Pixel Density'] = data['Pixel Density'].apply(for_integer)\n",
    "\n",
    "    data['Internal Memory'] = data['Internal Memory'].fillna(data['Internal Memory'].median())\n",
    "    data['Internal Memory'] = data['Internal Memory'].astype(int)\n",
    "\n",
    "    data['RAM'] = data['RAM'].apply(for_integer)\n",
    "    data['RAM'] = data['RAM'].fillna(data['RAM'].median())\n",
    "    data['RAM'] = data['RAM'].astype(int)\n",
    "\n",
    "    data['Resolution'] = data['Resolution'].apply(for_integer)\n",
    "    data['Resolution'] = data['Resolution'].fillna(data['Resolution'].median())\n",
    "    data['Resolution'] = data['Resolution'].astype(int)\n",
    "\n",
    "    data['Screen Size'] = data['Screen Size'].apply(for_float)\n",
    "\n",
    "    data['Thickness'] = data['Thickness'].apply(for_float)\n",
    "    data['Thickness'] = data['Thickness'].fillna(data['Thickness'].mean())\n",
    "    data['Thickness'] = data['Thickness'].round(2)\n",
    "\n",
    "    data['Type'] = data['Type'].fillna('Li-Polymer')\n",
    "\n",
    "    data['Screen to Body Ratio (calculated)'] = data['Screen to Body Ratio (calculated)'].apply(for_float)\n",
    "    data['Screen to Body Ratio (calculated)'] = data['Screen to Body Ratio (calculated)'].fillna(data['Screen to Body Ratio (calculated)'].mean())\n",
    "    data['Screen to Body Ratio (calculated)'] = data['Screen to Body Ratio (calculated)'].round(2)\n",
    "\n",
    "    data['Width'] = data['Width'].apply(for_float)\n",
    "    data['Width'] = data['Width'].fillna(data['Width'].mean())\n",
    "    data['Width'] = data['Width'].round(2)\n",
    "\n",
    "    data['Flash'][data['Flash'].isna() == True] = \"Other\"\n",
    "\n",
    "    data['User Replaceable'][data['User Replaceable'].isna() == True] = \"Other\"\n",
    "\n",
    "    data['Num_cores'] = data['Processor'].apply(for_string)\n",
    "    data['Num_cores'][data['Num_cores'].isna() == True] = \"Other\"\n",
    "\n",
    "\n",
    "    data['Processor_frequency'] = data['Processor'].apply(find_freq)\n",
    "    #because there is one entry with 208MHz values, to convert it to GHz\n",
    "    data['Processor_frequency'][data['Processor_frequency'] > 200] = 0.208\n",
    "    data['Processor_frequency'] = data['Processor_frequency'].fillna(data['Processor_frequency'].mean())\n",
    "    data['Processor_frequency'] = data['Processor_frequency'].round(2)\n",
    "\n",
    "    data['Camera Features'][data['Camera Features'].isna() == True] = \"Other\"\n",
    "\n",
    "    #simplifyig Operating System to os_name for simplicity\n",
    "    data['os_name'] = data['Operating System'].apply(for_string)\n",
    "    data['os_name'][data['os_name'].isna() == True] = \"Other\"\n",
    "\n",
    "    data['Sim1'] = data['SIM 1'].apply(for_string)\n",
    "\n",
    "    data['SIM Size'][data['SIM Size'].isna() == True] = \"Other\"\n",
    "\n",
    "    data['Image Resolution'][data['Image Resolution'].isna() == True] = \"Other\"\n",
    "\n",
    "    data['Fingerprint Sensor'][data['Fingerprint Sensor'].isna() == True] = \"Other\"\n",
    "\n",
    "    data['Expandable Memory'][data['Expandable Memory'].isna() == True] = \"No\"\n",
    "\n",
    "    data['Weight'] = data['Weight'].apply(for_integer)\n",
    "    data['Weight'] = data['Weight'].fillna(data['Weight'].mean())\n",
    "    data['Weight'] = data['Weight'].astype(int)\n",
    "\n",
    "    data['SIM 2'] = data['SIM 2'].apply(for_string)\n",
    "    data['SIM 2'][data['SIM 2'].isna() == True] = \"Other\"\n",
    "    \n",
    "    return data"
   ]
  },
  {
   "cell_type": "code",
   "execution_count": 45,
   "metadata": {
    "_uuid": "56549ddd962dc1ac9c1ac136ea6bfdbd2cce9f5f",
    "colab": {
     "base_uri": "https://localhost:8080/",
     "height": 51
    },
    "colab_type": "code",
    "id": "8Ztv1LBbtxwk",
    "outputId": "eae38340-e59e-4368-9fc0-92f00334cf44"
   },
   "outputs": [
    {
     "name": "stdout",
     "output_type": "stream",
     "text": [
      "Number of data points in train: 341\n",
      "Number of features in train: 51\n"
     ]
    }
   ],
   "source": [
    "train = data_clean_2(train)\n",
    "\n",
    "# check the number of features and data points in train\n",
    "print(\"Number of data points in train: %d\" % train.shape[0])\n",
    "print(\"Number of features in train: %d\" % train.shape[1])"
   ]
  },
  {
   "cell_type": "markdown",
   "metadata": {
    "_uuid": "98d229a941c44ef88db2e567768013993908afdc",
    "colab_type": "text",
    "id": "jbla9Q1utxwn"
   },
   "source": [
    "Not very important feature"
   ]
  },
  {
   "cell_type": "code",
   "execution_count": 46,
   "metadata": {
    "_uuid": "05511b41216020f8430c7c7388adee6a0ba0f47c",
    "colab": {},
    "colab_type": "code",
    "id": "2NbZrWhjtxwo"
   },
   "outputs": [],
   "source": [
    "def data_clean_3(x):\n",
    "    \n",
    "    data = x.copy()\n",
    "\n",
    "    columns_to_remove = ['User Available Storage','SIM Size','Chipset','Processor','Autofocus','Aspect Ratio','Touch Screen',\n",
    "                        'Bezel-less display','Operating System','SIM 1','USB Connectivity','Other Sensors','Graphics','FM Radio',\n",
    "                        'NFC','Shooting Modes','Browser','Display Colour' ]\n",
    "\n",
    "    columns_to_retain = list(set(data.columns)-set(columns_to_remove))\n",
    "    data = data[columns_to_retain]\n",
    "\n",
    "\n",
    "    columns_to_remove = [ 'Screen Resolution','User Replaceable','Camera Features',\n",
    "                        'Thickness', 'Display Type']\n",
    "\n",
    "    columns_to_retain = list(set(data.columns)-set(columns_to_remove))\n",
    "    data = data[columns_to_retain]\n",
    "\n",
    "\n",
    "    columns_to_remove = ['Fingerprint Sensor', 'Flash', 'Rating Count', 'Review Count','Image Resolution','Type','Expandable Memory',\\\n",
    "                        'Colours','Width','Model']\n",
    "    columns_to_retain = list(set(data.columns)-set(columns_to_remove))\n",
    "    data = data[columns_to_retain]\n",
    "\n",
    "    return data"
   ]
  },
  {
   "cell_type": "code",
   "execution_count": 47,
   "metadata": {
    "_uuid": "8a8a9bd7a6fb34ae65c271573e8a49d0f7a4e3f4",
    "colab": {
     "base_uri": "https://localhost:8080/",
     "height": 51
    },
    "colab_type": "code",
    "id": "xm2LUw2stxwq",
    "outputId": "dfd5e9b3-d142-41bd-c675-e50faced353f"
   },
   "outputs": [
    {
     "name": "stdout",
     "output_type": "stream",
     "text": [
      "Number of data points in train: 341\n",
      "Number of features in train: 18\n"
     ]
    }
   ],
   "source": [
    "train = data_clean_3(train)\n",
    "\n",
    "# check the number of features and data points in train\n",
    "print(\"Number of data points in train: %d\" % train.shape[0])\n",
    "print(\"Number of features in train: %d\" % train.shape[1])"
   ]
  },
  {
   "cell_type": "code",
   "execution_count": 48,
   "metadata": {
    "_uuid": "8a6c8f3e83d238058e69ed83471d7693aa4c4a6c",
    "colab": {
     "base_uri": "https://localhost:8080/",
     "height": 119
    },
    "colab_type": "code",
    "id": "_ViV0ltutxwv",
    "outputId": "bb0fd874-7946-4081-fe48-bb93700a7fb6"
   },
   "outputs": [
    {
     "name": "stdout",
     "output_type": "stream",
     "text": [
      "(341, 18)\n",
      "Index(['PhoneId', 'Sim1', 'Brand', 'Capacity', 'Pixel Density',\n",
      "       'Screen to Body Ratio (calculated)', 'Height', 'Num_cores', 'RAM',\n",
      "       'SIM Slot(s)', 'Rating', 'Resolution', 'Processor_frequency', 'Weight',\n",
      "       'os_name', 'SIM 2', 'Screen Size', 'Internal Memory'],\n",
      "      dtype='object')\n"
     ]
    }
   ],
   "source": [
    "# one hot encoding\n",
    "\n",
    "train_ids = train['PhoneId']\n",
    "\n",
    "cols = list(train.columns)\n",
    "cols.remove('PhoneId')\n",
    "cols.insert(0, 'PhoneId')\n",
    "\n",
    "train_organised = train[cols]\n",
    "\n",
    "print(train_organised.shape)\n",
    "print(train_organised.columns)\n",
    "\n",
    "train_new = pd.get_dummies(train_organised)"
   ]
  },
  {
   "cell_type": "code",
   "execution_count": 49,
   "metadata": {
    "_uuid": "a8a64b449abe0a5cf44127927b348043dce2ea78",
    "colab": {
     "base_uri": "https://localhost:8080/",
     "height": 51
    },
    "colab_type": "code",
    "id": "EzzxnZJKtxw5",
    "outputId": "a4b0f450-26d4-4c6a-a1c0-c46daa2521ff"
   },
   "outputs": [
    {
     "name": "stdout",
     "output_type": "stream",
     "text": [
      "Number of data points in train: 341\n",
      "Number of features in train: 85\n"
     ]
    }
   ],
   "source": [
    "# check the number of features and data points in train\n",
    "print(\"Number of data points in train: %d\" % train_new.shape[0])\n",
    "print(\"Number of features in train: %d\" % train_new.shape[1])"
   ]
  },
  {
   "cell_type": "code",
   "execution_count": 50,
   "metadata": {
    "_uuid": "c6a5b2deef0fb1e94ecae4a5e79bc5bc977d7d5d",
    "colab": {
     "base_uri": "https://localhost:8080/",
     "height": 321
    },
    "colab_type": "code",
    "id": "Z6Yur9jetxw_",
    "outputId": "2e4c2837-1cdb-49b5-ae84-62566ab4bad5"
   },
   "outputs": [
    {
     "data": {
      "text/html": [
       "<div>\n",
       "<style scoped>\n",
       "    .dataframe tbody tr th:only-of-type {\n",
       "        vertical-align: middle;\n",
       "    }\n",
       "\n",
       "    .dataframe tbody tr th {\n",
       "        vertical-align: top;\n",
       "    }\n",
       "\n",
       "    .dataframe thead th {\n",
       "        text-align: right;\n",
       "    }\n",
       "</style>\n",
       "<table border=\"1\" class=\"dataframe\">\n",
       "  <thead>\n",
       "    <tr style=\"text-align: right;\">\n",
       "      <th></th>\n",
       "      <th>PhoneId</th>\n",
       "      <th>Capacity</th>\n",
       "      <th>Pixel Density</th>\n",
       "      <th>Screen to Body Ratio (calculated)</th>\n",
       "      <th>Height</th>\n",
       "      <th>RAM</th>\n",
       "      <th>Rating</th>\n",
       "      <th>Resolution</th>\n",
       "      <th>Processor_frequency</th>\n",
       "      <th>Weight</th>\n",
       "      <th>...</th>\n",
       "      <th>os_name_Blackberry</th>\n",
       "      <th>os_name_KAI</th>\n",
       "      <th>os_name_Nokia</th>\n",
       "      <th>os_name_Other</th>\n",
       "      <th>os_name_Tizen</th>\n",
       "      <th>os_name_iOS</th>\n",
       "      <th>SIM 2_2G</th>\n",
       "      <th>SIM 2_3G</th>\n",
       "      <th>SIM 2_4G</th>\n",
       "      <th>SIM 2_Other</th>\n",
       "    </tr>\n",
       "  </thead>\n",
       "  <tbody>\n",
       "    <tr>\n",
       "      <td>0</td>\n",
       "      <td>0</td>\n",
       "      <td>4000</td>\n",
       "      <td>403</td>\n",
       "      <td>80.68</td>\n",
       "      <td>157.9</td>\n",
       "      <td>4</td>\n",
       "      <td>4.5</td>\n",
       "      <td>20</td>\n",
       "      <td>1.8</td>\n",
       "      <td>182</td>\n",
       "      <td>...</td>\n",
       "      <td>0</td>\n",
       "      <td>0</td>\n",
       "      <td>0</td>\n",
       "      <td>0</td>\n",
       "      <td>0</td>\n",
       "      <td>0</td>\n",
       "      <td>0</td>\n",
       "      <td>0</td>\n",
       "      <td>1</td>\n",
       "      <td>0</td>\n",
       "    </tr>\n",
       "    <tr>\n",
       "      <td>1</td>\n",
       "      <td>1</td>\n",
       "      <td>4230</td>\n",
       "      <td>271</td>\n",
       "      <td>80.85</td>\n",
       "      <td>156.2</td>\n",
       "      <td>3</td>\n",
       "      <td>4.5</td>\n",
       "      <td>8</td>\n",
       "      <td>1.8</td>\n",
       "      <td>168</td>\n",
       "      <td>...</td>\n",
       "      <td>0</td>\n",
       "      <td>0</td>\n",
       "      <td>0</td>\n",
       "      <td>0</td>\n",
       "      <td>0</td>\n",
       "      <td>0</td>\n",
       "      <td>0</td>\n",
       "      <td>0</td>\n",
       "      <td>1</td>\n",
       "      <td>0</td>\n",
       "    </tr>\n",
       "    <tr>\n",
       "      <td>2</td>\n",
       "      <td>2</td>\n",
       "      <td>3500</td>\n",
       "      <td>409</td>\n",
       "      <td>83.68</td>\n",
       "      <td>157.0</td>\n",
       "      <td>3</td>\n",
       "      <td>4.4</td>\n",
       "      <td>25</td>\n",
       "      <td>2.1</td>\n",
       "      <td>168</td>\n",
       "      <td>...</td>\n",
       "      <td>0</td>\n",
       "      <td>0</td>\n",
       "      <td>0</td>\n",
       "      <td>0</td>\n",
       "      <td>0</td>\n",
       "      <td>0</td>\n",
       "      <td>0</td>\n",
       "      <td>0</td>\n",
       "      <td>1</td>\n",
       "      <td>0</td>\n",
       "    </tr>\n",
       "    <tr>\n",
       "      <td>3</td>\n",
       "      <td>4</td>\n",
       "      <td>3300</td>\n",
       "      <td>411</td>\n",
       "      <td>74.78</td>\n",
       "      <td>159.8</td>\n",
       "      <td>4</td>\n",
       "      <td>4.3</td>\n",
       "      <td>24</td>\n",
       "      <td>2.2</td>\n",
       "      <td>169</td>\n",
       "      <td>...</td>\n",
       "      <td>0</td>\n",
       "      <td>0</td>\n",
       "      <td>0</td>\n",
       "      <td>0</td>\n",
       "      <td>0</td>\n",
       "      <td>0</td>\n",
       "      <td>0</td>\n",
       "      <td>0</td>\n",
       "      <td>1</td>\n",
       "      <td>0</td>\n",
       "    </tr>\n",
       "    <tr>\n",
       "      <td>4</td>\n",
       "      <td>5</td>\n",
       "      <td>3750</td>\n",
       "      <td>396</td>\n",
       "      <td>84.23</td>\n",
       "      <td>160.4</td>\n",
       "      <td>4</td>\n",
       "      <td>4.4</td>\n",
       "      <td>16</td>\n",
       "      <td>2.2</td>\n",
       "      <td>175</td>\n",
       "      <td>...</td>\n",
       "      <td>0</td>\n",
       "      <td>0</td>\n",
       "      <td>0</td>\n",
       "      <td>0</td>\n",
       "      <td>0</td>\n",
       "      <td>0</td>\n",
       "      <td>0</td>\n",
       "      <td>0</td>\n",
       "      <td>1</td>\n",
       "      <td>0</td>\n",
       "    </tr>\n",
       "  </tbody>\n",
       "</table>\n",
       "<p>5 rows × 85 columns</p>\n",
       "</div>"
      ],
      "text/plain": [
       "   PhoneId  Capacity  Pixel Density  Screen to Body Ratio (calculated)  \\\n",
       "0        0      4000            403                              80.68   \n",
       "1        1      4230            271                              80.85   \n",
       "2        2      3500            409                              83.68   \n",
       "3        4      3300            411                              74.78   \n",
       "4        5      3750            396                              84.23   \n",
       "\n",
       "   Height  RAM  Rating  Resolution  Processor_frequency  Weight  ...  \\\n",
       "0   157.9    4     4.5          20                  1.8     182  ...   \n",
       "1   156.2    3     4.5           8                  1.8     168  ...   \n",
       "2   157.0    3     4.4          25                  2.1     168  ...   \n",
       "3   159.8    4     4.3          24                  2.2     169  ...   \n",
       "4   160.4    4     4.4          16                  2.2     175  ...   \n",
       "\n",
       "   os_name_Blackberry  os_name_KAI  os_name_Nokia  os_name_Other  \\\n",
       "0                   0            0              0              0   \n",
       "1                   0            0              0              0   \n",
       "2                   0            0              0              0   \n",
       "3                   0            0              0              0   \n",
       "4                   0            0              0              0   \n",
       "\n",
       "   os_name_Tizen  os_name_iOS  SIM 2_2G  SIM 2_3G  SIM 2_4G  SIM 2_Other  \n",
       "0              0            0         0         0         1            0  \n",
       "1              0            0         0         0         1            0  \n",
       "2              0            0         0         0         1            0  \n",
       "3              0            0         0         0         1            0  \n",
       "4              0            0         0         0         1            0  \n",
       "\n",
       "[5 rows x 85 columns]"
      ]
     },
     "execution_count": 50,
     "metadata": {},
     "output_type": "execute_result"
    }
   ],
   "source": [
    "train_new.head()"
   ]
  },
  {
   "cell_type": "code",
   "execution_count": 51,
   "metadata": {
    "_uuid": "b4a3745dd5c77bd9b52773a1c121ade15eb9e180",
    "colab": {
     "base_uri": "https://localhost:8080/",
     "height": 478
    },
    "colab_type": "code",
    "id": "QRncV3M9txxO",
    "outputId": "cda0ca4f-704f-4996-bc1e-9a57917cf7b6"
   },
   "outputs": [
    {
     "data": {
      "image/png": "[encoded data removed]",
      "text/plain": [
       "<Figure size 432x288 with 1 Axes>"
      ]
     },
     "metadata": {
      "needs_background": "light"
     },
     "output_type": "display_data"
    }
   ],
   "source": [
    "Xtrain_bin = train_new.apply(pd.cut, bins = 2, labels =[0,1])\n",
    "\n",
    "plt.plot(Xtrain_bin.T, '*')\n",
    "plt.xticks(rotation='vertical')\n",
    "plt.show()\n",
    "\n",
    "Ytrain_bin = Xtrain_bin['Rating']\n",
    "Xtrain_bin = Xtrain_bin.drop('PhoneId',axis=1)\n",
    "Xtrain_bin = Xtrain_bin.drop('Rating',axis=1)\n",
    "\n",
    "X_train = Xtrain_bin.values\n",
    "Y_train = Ytrain_bin.values"
   ]
  },
  {
   "cell_type": "markdown",
   "metadata": {
    "colab_type": "text",
    "id": "qKBZl0WPSrLm"
   },
   "source": [
    "# Defining the Perceptron Model\n",
    "\n",
    "![Perceptron](https://camo.githubusercontent.com/bb28c4be7c8d557f692a6b9e5741242986495c61/68747470733a2f2f75706c6f61642e77696b696d656469612e6f72672f77696b6970656469612f636f6d6d6f6e732f382f38632f50657263657074726f6e5f6d6f6a2e706e67)"
   ]
  },
  {
   "cell_type": "code",
   "execution_count": 52,
   "metadata": {
    "_uuid": "3ad4f14b852ce3ce5566e77227b9d26886f3d248",
    "colab": {},
    "colab_type": "code",
    "id": "wy7InItTtxxT"
   },
   "outputs": [],
   "source": [
    "class Perceptron:\n",
    "  \n",
    "    def __init__ (self):\n",
    "        self.w = None\n",
    "        self.b = None\n",
    "    \n",
    "    def model(self, x):\n",
    "        #return 1 if (np.dot(self.w, x) >= self.b) else 0\n",
    "        z  = np.dot(self.w, x) + self.b\n",
    "        return round(1/(1+np.exp(-z)))\n",
    "    \n",
    "    def predict(self, X):\n",
    "        Y = []\n",
    "        for x in X:\n",
    "            result = self.model(x)\n",
    "            Y.append(result)\n",
    "        return np.array(Y)\n",
    "    \n",
    "    def fit(self, X, Y, epochs, lr):\n",
    "    \n",
    "        self.w = np.random.randn(X.shape[1])*0.01\n",
    "        self.b = 0\n",
    "    \n",
    "        accuracy = {}\n",
    "        max_accuracy = 0\n",
    "    \n",
    "        wt_matrix = []\n",
    "    \n",
    "        for i in range(epochs):\n",
    "            for x, y in zip(X, Y):\n",
    "                y_pred = self.model(x)\n",
    "                if y == 1 and y_pred == 0:\n",
    "                    self.w = self.w + lr * x\n",
    "                    self.b = self.b - lr * 1\n",
    "                elif y == 0 and y_pred == 1:\n",
    "                    self.w = self.w - lr * x\n",
    "                    self.b = self.b + lr * 1\n",
    "            \n",
    "            wt_matrix.append(self.w)    \n",
    "          \n",
    "            accuracy[i] = accuracy_score(self.predict(X), Y)\n",
    "            if (accuracy[i] > max_accuracy):\n",
    "                max_accuracy = accuracy[i]\n",
    "                chkptw = self.w\n",
    "                chkptb = self.b\n",
    "        \n",
    "        self.w = chkptw\n",
    "        self.b = chkptb\n",
    "        \n",
    "        print(max_accuracy)"
   ]
  },
  {
   "cell_type": "code",
   "execution_count": 53,
   "metadata": {
    "_uuid": "8e3eccf3cde78207b813bd0d8aa64c0d4e3983c5",
    "colab": {
     "base_uri": "https://localhost:8080/",
     "height": 34
    },
    "colab_type": "code",
    "id": "r5i5VCFCtxxX",
    "outputId": "40cce5bf-cb76-41c1-c381-aca54efabdeb"
   },
   "outputs": [
    {
     "name": "stdout",
     "output_type": "stream",
     "text": [
      "0.8914956011730205\n"
     ]
    }
   ],
   "source": [
    "model = Perceptron()\n",
    "model.fit(X_train,Y_train,epochs = 100, lr = 0.4)"
   ]
  },
  {
   "cell_type": "markdown",
   "metadata": {
    "colab_type": "text",
    "id": "1QLeN9pIPSLW"
   },
   "source": [
    "# Final Note\n",
    "You are expected to:\n",
    "1. Change the `Activation Funtion` from `step-up` to `sigmoid`.\n",
    "2. Retrain the model to observe the difference between the accuracy of both the models.\n",
    "3. **(Optional)** Make some changes into to the code to obtain even higher accuracy than the base accuracy achieved by following the above steps. Play with learning rate and observe it's impact.\n",
    "\n",
    "Instructions for submission will be provided to you in next 3 days."
   ]
  }
 ],
 "metadata": {
  "colab": {
   "name": "perceptron.ipynb",
   "provenance": [],
   "toc_visible": true
  },
  "kernelspec": {
   "display_name": "Python 3",
   "language": "python",
   "name": "python3"
  },
  "language_info": {
   "codemirror_mode": {
    "name": "ipython",
    "version": 3
   },
   "file_extension": ".py",
   "mimetype": "text/x-python",
   "name": "python",
   "nbconvert_exporter": "python",
   "pygments_lexer": "ipython3",
   "version": "3.7.4"
  }
 },
 "nbformat": 4,
 "nbformat_minor": 1
}
